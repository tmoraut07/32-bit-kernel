{
  "cells": [
    {
      "cell_type": "code",
      "execution_count": null,
      "metadata": {
        "id": "Y6L9PBqww4Yi"
      },
      "outputs": [],
      "source": [
        "import numpy as np\n",
        "import matplotlib.pyplot as plt\n",
        "from transformers import BertTokenizer"
      ]
    },
    {
      "cell_type": "markdown",
      "metadata": {
        "id": "XmSx7KKUw4Yj"
      },
      "source": [
        "Veamos como codifica texto el BertTokenizer"
      ]
    },
    {
      "cell_type": "code",
      "execution_count": null,
      "metadata": {
        "id": "Ev_XBGZkw4Yk"
      },
      "outputs": [],
      "source": [
        "tokenizer = BertTokenizer.from_pretrained(\"bert-base-cased\")\n",
        "\n",
        "texto = \"a qué hora pasa el ciento siete\"\n",
        "tokens = tokenizer.tokenize(texto)"
      ]
    },
    {
      "cell_type": "code",
      "execution_count": null,
      "metadata": {
        "id": "co7upOFXw4Yk",
        "outputId": "652f9c9b-a2ee-490c-8e5a-9a93280c4494"
      },
      "outputs": [
        {
          "name": "stdout",
          "output_type": "stream",
          "text": [
            "['a', 'q', '##ué', 'ho', '##ra', 'p', '##asa', 'el', 'c', '##ient', '##o', 'si', '##ete']\n"
          ]
        }
      ],
      "source": [
        "print(tokens)"
      ]
    },
    {
      "cell_type": "code",
      "execution_count": null,
      "metadata": {
        "id": "xl9bCznFw4Yk",
        "outputId": "8805eb0e-52ca-47e3-b6a6-271874e42413"
      },
      "outputs": [
        {
          "data": {
            "text/plain": [
              "[170, 186, 22476, 16358, 1611, 185, 18384, 8468, 172, 9080, 1186, 27466, 16618]"
            ]
          },
          "execution_count": 33,
          "metadata": {},
          "output_type": "execute_result"
        }
      ],
      "source": [
        "tokenizer.convert_tokens_to_ids(tokens)"
      ]
    },
    {
      "cell_type": "markdown",
      "source": [
        "Probando, un commit desde colab"
      ],
      "metadata": {
        "id": "YxZpYLN2w9Dw"
      }
    },
    {
      "cell_type": "markdown",
      "source": [
        "probando otro commit desde colab"
      ],
      "metadata": {
        "id": "6m73IzrwyexR"
      }
    }
  ],
  "metadata": {
    "colab": {
      "provenance": []
    },
    "kernelspec": {
      "display_name": "Python 3",
      "language": "python",
      "name": "python3"
    },
    "language_info": {
      "codemirror_mode": {
        "name": "ipython",
        "version": 3
      },
      "file_extension": ".py",
      "mimetype": "text/x-python",
      "name": "python",
      "nbconvert_exporter": "python",
      "pygments_lexer": "ipython3",
      "version": "3.12.3"
    }
  },
  "nbformat": 4,
  "nbformat_minor": 0
}